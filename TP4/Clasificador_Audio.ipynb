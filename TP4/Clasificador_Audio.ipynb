{
  "nbformat": 4,
  "nbformat_minor": 0,
  "metadata": {
    "colab": {
      "name": "Clasificador Audio.ipynb",
      "provenance": [],
      "collapsed_sections": [],
      "authorship_tag": "ABX9TyNKQmoxeEpMhzSPbunET1yK",
      "include_colab_link": true
    },
    "kernelspec": {
      "name": "python3",
      "display_name": "Python 3"
    },
    "language_info": {
      "name": "python"
    }
  },
  "cells": [
    {
      "cell_type": "markdown",
      "metadata": {
        "id": "view-in-github",
        "colab_type": "text"
      },
      "source": [
        "<a href=\"https://colab.research.google.com/github/apolaf44/GeneralRepository/blob/main/TP4/Clasificador_Audio.ipynb\" target=\"_parent\"><img src=\"https://colab.research.google.com/assets/colab-badge.svg\" alt=\"Open In Colab\"/></a>"
      ]
    },
    {
      "cell_type": "markdown",
      "source": [
        "Instalamos dependencias"
      ],
      "metadata": {
        "id": "7RXS4mzZoB2x"
      }
    },
    {
      "cell_type": "code",
      "source": [
        "pip uninstall tensorflow"
      ],
      "metadata": {
        "colab": {
          "base_uri": "https://localhost:8080/"
        },
        "id": "xf0Ji1lz3VNi",
        "outputId": "60c522e0-7692-491a-ceb8-af2d650ea89a"
      },
      "execution_count": 49,
      "outputs": [
        {
          "output_type": "stream",
          "name": "stdout",
          "text": [
            "Found existing installation: tensorflow 2.8.2+zzzcolab20220527125636\n",
            "Uninstalling tensorflow-2.8.2+zzzcolab20220527125636:\n",
            "  Would remove:\n",
            "    /usr/local/bin/estimator_ckpt_converter\n",
            "    /usr/local/bin/import_pb_to_tensorboard\n",
            "    /usr/local/bin/saved_model_cli\n",
            "    /usr/local/bin/tensorboard\n",
            "    /usr/local/bin/tf_upgrade_v2\n",
            "    /usr/local/bin/tflite_convert\n",
            "    /usr/local/bin/toco\n",
            "    /usr/local/bin/toco_from_protos\n",
            "    /usr/local/lib/python3.7/dist-packages/tensorflow-2.8.2+zzzcolab20220527125636.dist-info/*\n",
            "    /usr/local/lib/python3.7/dist-packages/tensorflow/*\n",
            "  Would not remove (might be manually added):\n",
            "    /usr/local/lib/python3.7/dist-packages/tensorflow/include/external/local_config_python/numpy_include/numpy/libdivide/LICENSE.txt\n",
            "    /usr/local/lib/python3.7/dist-packages/tensorflow/include/external/local_config_python/numpy_include/numpy/libdivide/libdivide.h\n",
            "    /usr/local/lib/python3.7/dist-packages/tensorflow/include/external/local_config_python/numpy_include/numpy/random/bitgen.h\n",
            "    /usr/local/lib/python3.7/dist-packages/tensorflow/include/external/local_config_python/numpy_include/numpy/random/distributions.h\n",
            "    /usr/local/lib/python3.7/dist-packages/tensorflow/include/external/nccl_archive/_virtual_includes/include_hdrs/align.h\n",
            "    /usr/local/lib/python3.7/dist-packages/tensorflow/include/external/nccl_archive/_virtual_includes/include_hdrs/alloc.h\n",
            "    /usr/local/lib/python3.7/dist-packages/tensorflow/include/external/nccl_archive/_virtual_includes/include_hdrs/argcheck.h\n",
            "    /usr/local/lib/python3.7/dist-packages/tensorflow/include/external/nccl_archive/_virtual_includes/include_hdrs/bootstrap.h\n",
            "    /usr/local/lib/python3.7/dist-packages/tensorflow/include/external/nccl_archive/_virtual_includes/include_hdrs/channel.h\n",
            "    /usr/local/lib/python3.7/dist-packages/tensorflow/include/external/nccl_archive/_virtual_includes/include_hdrs/checks.h\n",
            "    /usr/local/lib/python3.7/dist-packages/tensorflow/include/external/nccl_archive/_virtual_includes/include_hdrs/coll_net.h\n",
            "    /usr/local/lib/python3.7/dist-packages/tensorflow/include/external/nccl_archive/_virtual_includes/include_hdrs/collectives.h\n",
            "    /usr/local/lib/python3.7/dist-packages/tensorflow/include/external/nccl_archive/_virtual_includes/include_hdrs/comm.h\n",
            "    /usr/local/lib/python3.7/dist-packages/tensorflow/include/external/nccl_archive/_virtual_includes/include_hdrs/core.h\n",
            "    /usr/local/lib/python3.7/dist-packages/tensorflow/include/external/nccl_archive/_virtual_includes/include_hdrs/cpuset.h\n",
            "    /usr/local/lib/python3.7/dist-packages/tensorflow/include/external/nccl_archive/_virtual_includes/include_hdrs/debug.h\n",
            "    /usr/local/lib/python3.7/dist-packages/tensorflow/include/external/nccl_archive/_virtual_includes/include_hdrs/devcomm.h\n",
            "    /usr/local/lib/python3.7/dist-packages/tensorflow/include/external/nccl_archive/_virtual_includes/include_hdrs/enqueue.h\n",
            "    /usr/local/lib/python3.7/dist-packages/tensorflow/include/external/nccl_archive/_virtual_includes/include_hdrs/graph.h\n",
            "    /usr/local/lib/python3.7/dist-packages/tensorflow/include/external/nccl_archive/_virtual_includes/include_hdrs/group.h\n",
            "    /usr/local/lib/python3.7/dist-packages/tensorflow/include/external/nccl_archive/_virtual_includes/include_hdrs/ibvwrap.h\n",
            "    /usr/local/lib/python3.7/dist-packages/tensorflow/include/external/nccl_archive/_virtual_includes/include_hdrs/info.h\n",
            "    /usr/local/lib/python3.7/dist-packages/tensorflow/include/external/nccl_archive/_virtual_includes/include_hdrs/nccl_net.h\n",
            "    /usr/local/lib/python3.7/dist-packages/tensorflow/include/external/nccl_archive/_virtual_includes/include_hdrs/net.h\n",
            "    /usr/local/lib/python3.7/dist-packages/tensorflow/include/external/nccl_archive/_virtual_includes/include_hdrs/nvmlwrap.h\n",
            "    /usr/local/lib/python3.7/dist-packages/tensorflow/include/external/nccl_archive/_virtual_includes/include_hdrs/nvtx.h\n",
            "    /usr/local/lib/python3.7/dist-packages/tensorflow/include/external/nccl_archive/_virtual_includes/include_hdrs/nvtx3.hpp\n",
            "    /usr/local/lib/python3.7/dist-packages/tensorflow/include/external/nccl_archive/_virtual_includes/include_hdrs/nvtx3/nvToolsExt.h\n",
            "    /usr/local/lib/python3.7/dist-packages/tensorflow/include/external/nccl_archive/_virtual_includes/include_hdrs/nvtx3/nvToolsExtCuda.h\n",
            "    /usr/local/lib/python3.7/dist-packages/tensorflow/include/external/nccl_archive/_virtual_includes/include_hdrs/nvtx3/nvToolsExtCudaRt.h\n",
            "    /usr/local/lib/python3.7/dist-packages/tensorflow/include/external/nccl_archive/_virtual_includes/include_hdrs/nvtx3/nvToolsExtOpenCL.h\n",
            "    /usr/local/lib/python3.7/dist-packages/tensorflow/include/external/nccl_archive/_virtual_includes/include_hdrs/nvtx3/nvToolsExtSync.h\n",
            "    /usr/local/lib/python3.7/dist-packages/tensorflow/include/external/nccl_archive/_virtual_includes/include_hdrs/nvtx3/nvtxDetail/nvtxImpl.h\n",
            "    /usr/local/lib/python3.7/dist-packages/tensorflow/include/external/nccl_archive/_virtual_includes/include_hdrs/nvtx3/nvtxDetail/nvtxImplCore.h\n",
            "    /usr/local/lib/python3.7/dist-packages/tensorflow/include/external/nccl_archive/_virtual_includes/include_hdrs/nvtx3/nvtxDetail/nvtxImplCudaRt_v3.h\n",
            "    /usr/local/lib/python3.7/dist-packages/tensorflow/include/external/nccl_archive/_virtual_includes/include_hdrs/nvtx3/nvtxDetail/nvtxImplCuda_v3.h\n",
            "    /usr/local/lib/python3.7/dist-packages/tensorflow/include/external/nccl_archive/_virtual_includes/include_hdrs/nvtx3/nvtxDetail/nvtxImplOpenCL_v3.h\n",
            "    /usr/local/lib/python3.7/dist-packages/tensorflow/include/external/nccl_archive/_virtual_includes/include_hdrs/nvtx3/nvtxDetail/nvtxImplSync_v3.h\n",
            "    /usr/local/lib/python3.7/dist-packages/tensorflow/include/external/nccl_archive/_virtual_includes/include_hdrs/nvtx3/nvtxDetail/nvtxInit.h\n",
            "    /usr/local/lib/python3.7/dist-packages/tensorflow/include/external/nccl_archive/_virtual_includes/include_hdrs/nvtx3/nvtxDetail/nvtxInitDecls.h\n",
            "    /usr/local/lib/python3.7/dist-packages/tensorflow/include/external/nccl_archive/_virtual_includes/include_hdrs/nvtx3/nvtxDetail/nvtxInitDefs.h\n",
            "    /usr/local/lib/python3.7/dist-packages/tensorflow/include/external/nccl_archive/_virtual_includes/include_hdrs/nvtx3/nvtxDetail/nvtxLinkOnce.h\n",
            "    /usr/local/lib/python3.7/dist-packages/tensorflow/include/external/nccl_archive/_virtual_includes/include_hdrs/nvtx3/nvtxDetail/nvtxTypes.h\n",
            "    /usr/local/lib/python3.7/dist-packages/tensorflow/include/external/nccl_archive/_virtual_includes/include_hdrs/p2p.h\n",
            "    /usr/local/lib/python3.7/dist-packages/tensorflow/include/external/nccl_archive/_virtual_includes/include_hdrs/param.h\n",
            "    /usr/local/lib/python3.7/dist-packages/tensorflow/include/external/nccl_archive/_virtual_includes/include_hdrs/proxy.h\n",
            "    /usr/local/lib/python3.7/dist-packages/tensorflow/include/external/nccl_archive/_virtual_includes/include_hdrs/shm.h\n",
            "    /usr/local/lib/python3.7/dist-packages/tensorflow/include/external/nccl_archive/_virtual_includes/include_hdrs/socket.h\n",
            "    /usr/local/lib/python3.7/dist-packages/tensorflow/include/external/nccl_archive/_virtual_includes/include_hdrs/transport.h\n",
            "    /usr/local/lib/python3.7/dist-packages/tensorflow/include/external/nccl_archive/_virtual_includes/include_hdrs/trees.h\n",
            "    /usr/local/lib/python3.7/dist-packages/tensorflow/include/external/nccl_archive/_virtual_includes/include_hdrs/utils.h\n",
            "    /usr/local/lib/python3.7/dist-packages/tensorflow/include/external/nccl_archive/_virtual_includes/nccl/third_party/nccl/nccl.h\n",
            "    /usr/local/lib/python3.7/dist-packages/tensorflow/include/external/nccl_archive/_virtual_includes/src_hdrs/include/collectives.h\n",
            "    /usr/local/lib/python3.7/dist-packages/tensorflow/include/external/nccl_archive/_virtual_includes/src_hdrs/nccl.h\n",
            "    /usr/local/lib/python3.7/dist-packages/tensorflow/include/external/nccl_archive/src/graph/rings.h\n",
            "    /usr/local/lib/python3.7/dist-packages/tensorflow/include/external/nccl_archive/src/graph/topo.h\n",
            "    /usr/local/lib/python3.7/dist-packages/tensorflow/include/external/nccl_archive/src/graph/xml.h\n",
            "    /usr/local/lib/python3.7/dist-packages/tensorflow/include/external/nccl_archive/src/include/align.h\n",
            "    /usr/local/lib/python3.7/dist-packages/tensorflow/include/external/nccl_archive/src/include/alloc.h\n",
            "    /usr/local/lib/python3.7/dist-packages/tensorflow/include/external/nccl_archive/src/include/argcheck.h\n",
            "    /usr/local/lib/python3.7/dist-packages/tensorflow/include/external/nccl_archive/src/include/bootstrap.h\n",
            "    /usr/local/lib/python3.7/dist-packages/tensorflow/include/external/nccl_archive/src/include/channel.h\n",
            "    /usr/local/lib/python3.7/dist-packages/tensorflow/include/external/nccl_archive/src/include/checks.h\n",
            "    /usr/local/lib/python3.7/dist-packages/tensorflow/include/external/nccl_archive/src/include/coll_net.h\n",
            "    /usr/local/lib/python3.7/dist-packages/tensorflow/include/external/nccl_archive/src/include/collectives.h\n",
            "    /usr/local/lib/python3.7/dist-packages/tensorflow/include/external/nccl_archive/src/include/comm.h\n",
            "    /usr/local/lib/python3.7/dist-packages/tensorflow/include/external/nccl_archive/src/include/core.h\n",
            "    /usr/local/lib/python3.7/dist-packages/tensorflow/include/external/nccl_archive/src/include/cpuset.h\n",
            "    /usr/local/lib/python3.7/dist-packages/tensorflow/include/external/nccl_archive/src/include/debug.h\n",
            "    /usr/local/lib/python3.7/dist-packages/tensorflow/include/external/nccl_archive/src/include/devcomm.h\n",
            "    /usr/local/lib/python3.7/dist-packages/tensorflow/include/external/nccl_archive/src/include/enqueue.h\n",
            "    /usr/local/lib/python3.7/dist-packages/tensorflow/include/external/nccl_archive/src/include/graph.h\n",
            "    /usr/local/lib/python3.7/dist-packages/tensorflow/include/external/nccl_archive/src/include/group.h\n",
            "    /usr/local/lib/python3.7/dist-packages/tensorflow/include/external/nccl_archive/src/include/ibvwrap.h\n",
            "    /usr/local/lib/python3.7/dist-packages/tensorflow/include/external/nccl_archive/src/include/info.h\n",
            "    /usr/local/lib/python3.7/dist-packages/tensorflow/include/external/nccl_archive/src/include/nccl_net.h\n",
            "    /usr/local/lib/python3.7/dist-packages/tensorflow/include/external/nccl_archive/src/include/net.h\n",
            "    /usr/local/lib/python3.7/dist-packages/tensorflow/include/external/nccl_archive/src/include/nvmlwrap.h\n",
            "    /usr/local/lib/python3.7/dist-packages/tensorflow/include/external/nccl_archive/src/include/nvtx.h\n",
            "    /usr/local/lib/python3.7/dist-packages/tensorflow/include/external/nccl_archive/src/include/nvtx3.hpp\n",
            "    /usr/local/lib/python3.7/dist-packages/tensorflow/include/external/nccl_archive/src/include/nvtx3/nvToolsExt.h\n",
            "    /usr/local/lib/python3.7/dist-packages/tensorflow/include/external/nccl_archive/src/include/nvtx3/nvToolsExtCuda.h\n",
            "    /usr/local/lib/python3.7/dist-packages/tensorflow/include/external/nccl_archive/src/include/nvtx3/nvToolsExtCudaRt.h\n",
            "    /usr/local/lib/python3.7/dist-packages/tensorflow/include/external/nccl_archive/src/include/nvtx3/nvToolsExtOpenCL.h\n",
            "    /usr/local/lib/python3.7/dist-packages/tensorflow/include/external/nccl_archive/src/include/nvtx3/nvToolsExtSync.h\n",
            "    /usr/local/lib/python3.7/dist-packages/tensorflow/include/external/nccl_archive/src/include/nvtx3/nvtxDetail/nvtxImpl.h\n",
            "    /usr/local/lib/python3.7/dist-packages/tensorflow/include/external/nccl_archive/src/include/nvtx3/nvtxDetail/nvtxImplCore.h\n",
            "    /usr/local/lib/python3.7/dist-packages/tensorflow/include/external/nccl_archive/src/include/nvtx3/nvtxDetail/nvtxImplCudaRt_v3.h\n",
            "    /usr/local/lib/python3.7/dist-packages/tensorflow/include/external/nccl_archive/src/include/nvtx3/nvtxDetail/nvtxImplCuda_v3.h\n",
            "    /usr/local/lib/python3.7/dist-packages/tensorflow/include/external/nccl_archive/src/include/nvtx3/nvtxDetail/nvtxImplOpenCL_v3.h\n",
            "    /usr/local/lib/python3.7/dist-packages/tensorflow/include/external/nccl_archive/src/include/nvtx3/nvtxDetail/nvtxImplSync_v3.h\n",
            "    /usr/local/lib/python3.7/dist-packages/tensorflow/include/external/nccl_archive/src/include/nvtx3/nvtxDetail/nvtxInit.h\n",
            "    /usr/local/lib/python3.7/dist-packages/tensorflow/include/external/nccl_archive/src/include/nvtx3/nvtxDetail/nvtxInitDecls.h\n",
            "    /usr/local/lib/python3.7/dist-packages/tensorflow/include/external/nccl_archive/src/include/nvtx3/nvtxDetail/nvtxInitDefs.h\n",
            "    /usr/local/lib/python3.7/dist-packages/tensorflow/include/external/nccl_archive/src/include/nvtx3/nvtxDetail/nvtxLinkOnce.h\n",
            "    /usr/local/lib/python3.7/dist-packages/tensorflow/include/external/nccl_archive/src/include/nvtx3/nvtxDetail/nvtxTypes.h\n",
            "    /usr/local/lib/python3.7/dist-packages/tensorflow/include/external/nccl_archive/src/include/p2p.h\n",
            "    /usr/local/lib/python3.7/dist-packages/tensorflow/include/external/nccl_archive/src/include/param.h\n",
            "    /usr/local/lib/python3.7/dist-packages/tensorflow/include/external/nccl_archive/src/include/proxy.h\n",
            "    /usr/local/lib/python3.7/dist-packages/tensorflow/include/external/nccl_archive/src/include/shm.h\n",
            "    /usr/local/lib/python3.7/dist-packages/tensorflow/include/external/nccl_archive/src/include/socket.h\n",
            "    /usr/local/lib/python3.7/dist-packages/tensorflow/include/external/nccl_archive/src/include/transport.h\n",
            "    /usr/local/lib/python3.7/dist-packages/tensorflow/include/external/nccl_archive/src/include/trees.h\n",
            "    /usr/local/lib/python3.7/dist-packages/tensorflow/include/external/nccl_archive/src/include/utils.h\n",
            "    /usr/local/lib/python3.7/dist-packages/tensorflow/include/external/nccl_archive/src/nccl.h\n",
            "    /usr/local/lib/python3.7/dist-packages/tensorflow/include/tensorflow/compiler/tf2tensorrt/common/datavec.h\n",
            "    /usr/local/lib/python3.7/dist-packages/tensorflow/include/tensorflow/compiler/tf2tensorrt/common/utils.h\n",
            "    /usr/local/lib/python3.7/dist-packages/tensorflow/include/tensorflow/compiler/tf2tensorrt/convert/convert_graph.h\n",
            "    /usr/local/lib/python3.7/dist-packages/tensorflow/include/tensorflow/compiler/tf2tensorrt/convert/convert_nodes.h\n",
            "    /usr/local/lib/python3.7/dist-packages/tensorflow/include/tensorflow/compiler/tf2tensorrt/convert/logger_registry.h\n",
            "    /usr/local/lib/python3.7/dist-packages/tensorflow/include/tensorflow/compiler/tf2tensorrt/convert/op_converter.h\n",
            "    /usr/local/lib/python3.7/dist-packages/tensorflow/include/tensorflow/compiler/tf2tensorrt/convert/op_converter_registry.h\n",
            "    /usr/local/lib/python3.7/dist-packages/tensorflow/include/tensorflow/compiler/tf2tensorrt/convert/ops/layer_utils.h\n",
            "    /usr/local/lib/python3.7/dist-packages/tensorflow/include/tensorflow/compiler/tf2tensorrt/convert/ops/quantization_ops.h\n",
            "    /usr/local/lib/python3.7/dist-packages/tensorflow/include/tensorflow/compiler/tf2tensorrt/convert/ops/slice_ops.h\n",
            "    /usr/local/lib/python3.7/dist-packages/tensorflow/include/tensorflow/compiler/tf2tensorrt/convert/trt_optimization_pass.h\n",
            "    /usr/local/lib/python3.7/dist-packages/tensorflow/include/tensorflow/compiler/tf2tensorrt/convert/trt_parameters.h\n",
            "    /usr/local/lib/python3.7/dist-packages/tensorflow/include/tensorflow/compiler/tf2tensorrt/convert/utils.h\n",
            "    /usr/local/lib/python3.7/dist-packages/tensorflow/include/tensorflow/compiler/tf2tensorrt/convert/weights.h\n",
            "    /usr/local/lib/python3.7/dist-packages/tensorflow/include/tensorflow/compiler/tf2tensorrt/plugin/trt_plugin.h\n",
            "    /usr/local/lib/python3.7/dist-packages/tensorflow/include/tensorflow/compiler/tf2tensorrt/segment/segment.h\n",
            "    /usr/local/lib/python3.7/dist-packages/tensorflow/include/tensorflow/compiler/tf2tensorrt/segment/union_find.h\n",
            "    /usr/local/lib/python3.7/dist-packages/tensorflow/include/tensorflow/compiler/tf2tensorrt/trt_convert_api.h\n",
            "    /usr/local/lib/python3.7/dist-packages/tensorflow/include/tensorflow/compiler/tf2tensorrt/utils/trt_allocator.h\n",
            "    /usr/local/lib/python3.7/dist-packages/tensorflow/include/tensorflow/compiler/tf2tensorrt/utils/trt_engine_instance.pb.h\n",
            "    /usr/local/lib/python3.7/dist-packages/tensorflow/include/tensorflow/compiler/tf2tensorrt/utils/trt_engine_utils.h\n",
            "    /usr/local/lib/python3.7/dist-packages/tensorflow/include/tensorflow/compiler/tf2tensorrt/utils/trt_execution_context.h\n",
            "    /usr/local/lib/python3.7/dist-packages/tensorflow/include/tensorflow/compiler/tf2tensorrt/utils/trt_int8_calibrator.h\n",
            "    /usr/local/lib/python3.7/dist-packages/tensorflow/include/tensorflow/compiler/tf2tensorrt/utils/trt_logger.h\n",
            "    /usr/local/lib/python3.7/dist-packages/tensorflow/include/tensorflow/compiler/tf2tensorrt/utils/trt_lru_cache.h\n",
            "    /usr/local/lib/python3.7/dist-packages/tensorflow/include/tensorflow/compiler/tf2tensorrt/utils/trt_shape_optimization_profiles.h\n",
            "    /usr/local/lib/python3.7/dist-packages/tensorflow/include/tensorflow/compiler/tf2tensorrt/utils/trt_tensor_proxy.h\n",
            "    /usr/local/lib/python3.7/dist-packages/tensorflow/include/tensorflow/compiler/xla/service/gpu/nccl_utils.h\n",
            "    /usr/local/lib/python3.7/dist-packages/tensorflow/include/tensorflow/core/kernels/collective_nccl.h\n",
            "    /usr/local/lib/python3.7/dist-packages/tensorflow/include/tensorflow/core/kernels/collective_nccl_broadcaster.h\n",
            "    /usr/local/lib/python3.7/dist-packages/tensorflow/include/tensorflow/core/kernels/collective_nccl_gatherer.h\n",
            "    /usr/local/lib/python3.7/dist-packages/tensorflow/include/tensorflow/core/kernels/collective_nccl_reducer.h\n",
            "    /usr/local/lib/python3.7/dist-packages/tensorflow/include/tensorflow/core/nccl/nccl_manager.h\n",
            "Proceed (y/n)? y\n",
            "y\n",
            "  Successfully uninstalled tensorflow-2.8.2+zzzcolab20220527125636\n"
          ]
        }
      ]
    },
    {
      "cell_type": "code",
      "source": [
        "!pip install tensorflow tensorflow-gpu tensorflow-io matplotlib"
      ],
      "metadata": {
        "colab": {
          "base_uri": "https://localhost:8080/",
          "height": 1000
        },
        "id": "4664WzDOoDQS",
        "outputId": "453abee8-18dd-4079-a80e-2e0c469460b6"
      },
      "execution_count": 50,
      "outputs": [
        {
          "output_type": "stream",
          "name": "stdout",
          "text": [
            "Looking in indexes: https://pypi.org/simple, https://us-python.pkg.dev/colab-wheels/public/simple/\n",
            "Collecting tensorflow\n",
            "  Downloading tensorflow-2.9.1-cp37-cp37m-manylinux_2_17_x86_64.manylinux2014_x86_64.whl (511.7 MB)\n",
            "\u001b[K     |████████████████████████████████| 511.7 MB 5.9 kB/s \n",
            "\u001b[?25hRequirement already satisfied: tensorflow-gpu in /usr/local/lib/python3.7/dist-packages (2.8.2)\n",
            "Requirement already satisfied: tensorflow-io in /usr/local/lib/python3.7/dist-packages (0.26.0)\n",
            "Requirement already satisfied: matplotlib in /usr/local/lib/python3.7/dist-packages (3.2.2)\n",
            "Requirement already satisfied: libclang>=13.0.0 in /usr/local/lib/python3.7/dist-packages (from tensorflow) (14.0.1)\n",
            "Collecting tensorflow-estimator<2.10.0,>=2.9.0rc0\n",
            "  Downloading tensorflow_estimator-2.9.0-py2.py3-none-any.whl (438 kB)\n",
            "\u001b[K     |████████████████████████████████| 438 kB 46.8 MB/s \n",
            "\u001b[?25hRequirement already satisfied: wrapt>=1.11.0 in /usr/local/lib/python3.7/dist-packages (from tensorflow) (1.14.1)\n",
            "Collecting flatbuffers<2,>=1.12\n",
            "  Using cached flatbuffers-1.12-py2.py3-none-any.whl (15 kB)\n",
            "Requirement already satisfied: tensorflow-io-gcs-filesystem>=0.23.1 in /usr/local/lib/python3.7/dist-packages (from tensorflow) (0.26.0)\n",
            "Requirement already satisfied: astunparse>=1.6.0 in /usr/local/lib/python3.7/dist-packages (from tensorflow) (1.6.3)\n",
            "Requirement already satisfied: google-pasta>=0.1.1 in /usr/local/lib/python3.7/dist-packages (from tensorflow) (0.2.0)\n",
            "Collecting gast<=0.4.0,>=0.2.1\n",
            "  Downloading gast-0.4.0-py3-none-any.whl (9.8 kB)\n",
            "Requirement already satisfied: opt-einsum>=2.3.2 in /usr/local/lib/python3.7/dist-packages (from tensorflow) (3.3.0)\n",
            "Requirement already satisfied: numpy>=1.20 in /usr/local/lib/python3.7/dist-packages (from tensorflow) (1.21.6)\n",
            "Requirement already satisfied: protobuf<3.20,>=3.9.2 in /usr/local/lib/python3.7/dist-packages (from tensorflow) (3.17.3)\n",
            "Collecting keras<2.10.0,>=2.9.0rc0\n",
            "  Downloading keras-2.9.0-py2.py3-none-any.whl (1.6 MB)\n",
            "\u001b[K     |████████████████████████████████| 1.6 MB 39.2 MB/s \n",
            "\u001b[?25hRequirement already satisfied: grpcio<2.0,>=1.24.3 in /usr/local/lib/python3.7/dist-packages (from tensorflow) (1.46.3)\n",
            "Requirement already satisfied: h5py>=2.9.0 in /usr/local/lib/python3.7/dist-packages (from tensorflow) (3.1.0)\n",
            "Requirement already satisfied: termcolor>=1.1.0 in /usr/local/lib/python3.7/dist-packages (from tensorflow) (1.1.0)\n",
            "Requirement already satisfied: packaging in /usr/local/lib/python3.7/dist-packages (from tensorflow) (21.3)\n",
            "Requirement already satisfied: setuptools in /usr/local/lib/python3.7/dist-packages (from tensorflow) (57.4.0)\n",
            "Requirement already satisfied: typing-extensions>=3.6.6 in /usr/local/lib/python3.7/dist-packages (from tensorflow) (4.1.1)\n",
            "Collecting tensorboard<2.10,>=2.9\n",
            "  Downloading tensorboard-2.9.1-py3-none-any.whl (5.8 MB)\n",
            "\u001b[K     |████████████████████████████████| 5.8 MB 37.4 MB/s \n",
            "\u001b[?25hRequirement already satisfied: six>=1.12.0 in /usr/local/lib/python3.7/dist-packages (from tensorflow) (1.15.0)\n",
            "Requirement already satisfied: absl-py>=1.0.0 in /usr/local/lib/python3.7/dist-packages (from tensorflow) (1.1.0)\n",
            "Requirement already satisfied: keras-preprocessing>=1.1.1 in /usr/local/lib/python3.7/dist-packages (from tensorflow) (1.1.2)\n",
            "Requirement already satisfied: wheel<1.0,>=0.23.0 in /usr/local/lib/python3.7/dist-packages (from astunparse>=1.6.0->tensorflow) (0.37.1)\n",
            "Requirement already satisfied: cached-property in /usr/local/lib/python3.7/dist-packages (from h5py>=2.9.0->tensorflow) (1.5.2)\n",
            "Requirement already satisfied: markdown>=2.6.8 in /usr/local/lib/python3.7/dist-packages (from tensorboard<2.10,>=2.9->tensorflow) (3.3.7)\n",
            "Requirement already satisfied: google-auth<3,>=1.6.3 in /usr/local/lib/python3.7/dist-packages (from tensorboard<2.10,>=2.9->tensorflow) (1.35.0)\n",
            "Requirement already satisfied: google-auth-oauthlib<0.5,>=0.4.1 in /usr/local/lib/python3.7/dist-packages (from tensorboard<2.10,>=2.9->tensorflow) (0.4.6)\n",
            "Requirement already satisfied: tensorboard-data-server<0.7.0,>=0.6.0 in /usr/local/lib/python3.7/dist-packages (from tensorboard<2.10,>=2.9->tensorflow) (0.6.1)\n",
            "Requirement already satisfied: requests<3,>=2.21.0 in /usr/local/lib/python3.7/dist-packages (from tensorboard<2.10,>=2.9->tensorflow) (2.23.0)\n",
            "Requirement already satisfied: tensorboard-plugin-wit>=1.6.0 in /usr/local/lib/python3.7/dist-packages (from tensorboard<2.10,>=2.9->tensorflow) (1.8.1)\n",
            "Requirement already satisfied: werkzeug>=1.0.1 in /usr/local/lib/python3.7/dist-packages (from tensorboard<2.10,>=2.9->tensorflow) (1.0.1)\n",
            "Requirement already satisfied: pyasn1-modules>=0.2.1 in /usr/local/lib/python3.7/dist-packages (from google-auth<3,>=1.6.3->tensorboard<2.10,>=2.9->tensorflow) (0.2.8)\n",
            "Requirement already satisfied: rsa<5,>=3.1.4 in /usr/local/lib/python3.7/dist-packages (from google-auth<3,>=1.6.3->tensorboard<2.10,>=2.9->tensorflow) (4.8)\n",
            "Requirement already satisfied: cachetools<5.0,>=2.0.0 in /usr/local/lib/python3.7/dist-packages (from google-auth<3,>=1.6.3->tensorboard<2.10,>=2.9->tensorflow) (4.2.4)\n",
            "Requirement already satisfied: requests-oauthlib>=0.7.0 in /usr/local/lib/python3.7/dist-packages (from google-auth-oauthlib<0.5,>=0.4.1->tensorboard<2.10,>=2.9->tensorflow) (1.3.1)\n",
            "Requirement already satisfied: importlib-metadata>=4.4 in /usr/local/lib/python3.7/dist-packages (from markdown>=2.6.8->tensorboard<2.10,>=2.9->tensorflow) (4.11.4)\n",
            "Requirement already satisfied: zipp>=0.5 in /usr/local/lib/python3.7/dist-packages (from importlib-metadata>=4.4->markdown>=2.6.8->tensorboard<2.10,>=2.9->tensorflow) (3.8.0)\n",
            "Requirement already satisfied: pyasn1<0.5.0,>=0.4.6 in /usr/local/lib/python3.7/dist-packages (from pyasn1-modules>=0.2.1->google-auth<3,>=1.6.3->tensorboard<2.10,>=2.9->tensorflow) (0.4.8)\n",
            "Requirement already satisfied: certifi>=2017.4.17 in /usr/local/lib/python3.7/dist-packages (from requests<3,>=2.21.0->tensorboard<2.10,>=2.9->tensorflow) (2022.6.15)\n",
            "Requirement already satisfied: urllib3!=1.25.0,!=1.25.1,<1.26,>=1.21.1 in /usr/local/lib/python3.7/dist-packages (from requests<3,>=2.21.0->tensorboard<2.10,>=2.9->tensorflow) (1.24.3)\n",
            "Requirement already satisfied: chardet<4,>=3.0.2 in /usr/local/lib/python3.7/dist-packages (from requests<3,>=2.21.0->tensorboard<2.10,>=2.9->tensorflow) (3.0.4)\n",
            "Requirement already satisfied: idna<3,>=2.5 in /usr/local/lib/python3.7/dist-packages (from requests<3,>=2.21.0->tensorboard<2.10,>=2.9->tensorflow) (2.10)\n",
            "Requirement already satisfied: oauthlib>=3.0.0 in /usr/local/lib/python3.7/dist-packages (from requests-oauthlib>=0.7.0->google-auth-oauthlib<0.5,>=0.4.1->tensorboard<2.10,>=2.9->tensorflow) (3.2.0)\n",
            "Collecting tensorflow-gpu\n",
            "  Using cached tensorflow_gpu-2.9.1-cp37-cp37m-manylinux_2_17_x86_64.manylinux2014_x86_64.whl (511.7 MB)\n",
            "Requirement already satisfied: cycler>=0.10 in /usr/local/lib/python3.7/dist-packages (from matplotlib) (0.11.0)\n",
            "Requirement already satisfied: pyparsing!=2.0.4,!=2.1.2,!=2.1.6,>=2.0.1 in /usr/local/lib/python3.7/dist-packages (from matplotlib) (3.0.9)\n",
            "Requirement already satisfied: kiwisolver>=1.0.1 in /usr/local/lib/python3.7/dist-packages (from matplotlib) (1.4.3)\n",
            "Requirement already satisfied: python-dateutil>=2.1 in /usr/local/lib/python3.7/dist-packages (from matplotlib) (2.8.2)\n",
            "Installing collected packages: tensorflow-estimator, tensorboard, keras, gast, flatbuffers, tensorflow-gpu, tensorflow\n",
            "  Attempting uninstall: tensorflow-estimator\n",
            "    Found existing installation: tensorflow-estimator 2.8.0\n",
            "    Uninstalling tensorflow-estimator-2.8.0:\n",
            "      Successfully uninstalled tensorflow-estimator-2.8.0\n",
            "  Attempting uninstall: tensorboard\n",
            "    Found existing installation: tensorboard 2.8.0\n",
            "    Uninstalling tensorboard-2.8.0:\n",
            "      Successfully uninstalled tensorboard-2.8.0\n",
            "  Attempting uninstall: keras\n",
            "    Found existing installation: keras 2.8.0\n",
            "    Uninstalling keras-2.8.0:\n",
            "      Successfully uninstalled keras-2.8.0\n",
            "  Attempting uninstall: gast\n",
            "    Found existing installation: gast 0.5.3\n",
            "    Uninstalling gast-0.5.3:\n",
            "      Successfully uninstalled gast-0.5.3\n",
            "  Attempting uninstall: flatbuffers\n",
            "    Found existing installation: flatbuffers 2.0\n",
            "    Uninstalling flatbuffers-2.0:\n",
            "      Successfully uninstalled flatbuffers-2.0\n",
            "  Attempting uninstall: tensorflow-gpu\n",
            "    Found existing installation: tensorflow-gpu 2.8.2\n",
            "    Uninstalling tensorflow-gpu-2.8.2:\n",
            "      Successfully uninstalled tensorflow-gpu-2.8.2\n",
            "Successfully installed flatbuffers-1.12 gast-0.4.0 keras-2.9.0 tensorboard-2.9.1 tensorflow-2.9.1 tensorflow-estimator-2.9.0 tensorflow-gpu-2.9.1\n"
          ]
        },
        {
          "output_type": "display_data",
          "data": {
            "application/vnd.colab-display-data+json": {
              "pip_warning": {
                "packages": [
                  "flatbuffers",
                  "gast",
                  "keras",
                  "tensorboard",
                  "tensorflow",
                  "tensorflow_estimator"
                ]
              }
            }
          },
          "metadata": {}
        }
      ]
    },
    {
      "cell_type": "markdown",
      "source": [
        "Cargamos las dependencias"
      ],
      "metadata": {
        "id": "H5b427TnpSv7"
      }
    },
    {
      "cell_type": "code",
      "source": [
        "import os\n",
        "from matplotlib import pyplot as plt\n",
        "import tensorflow as tf\n",
        "import tensorflow_io as tfio\n"
      ],
      "metadata": {
        "id": "QMhfJlAgoD7y"
      },
      "execution_count": 1,
      "outputs": []
    },
    {
      "cell_type": "markdown",
      "source": [
        "# **2. Creamos Funciones para cargar la Data**"
      ],
      "metadata": {
        "id": "gZcxorXzp0vV"
      }
    },
    {
      "cell_type": "markdown",
      "source": [
        "2.1 Definir Paths a Files"
      ],
      "metadata": {
        "id": "KEJ6cbctqFIw"
      }
    },
    {
      "cell_type": "code",
      "source": [
        "Capuchino_file = os.path.join('DATA' , '/content/DATA/Capuchinos Clips' , 'XC3776-3.wav' )\n",
        "No_Capuchino_file = os.path.join('DATA' , '/content/DATA/No Capuchinos' , 'afternoon-birds-song-in-forest-0.wav')"
      ],
      "metadata": {
        "id": "1rghku59p8dR"
      },
      "execution_count": 38,
      "outputs": []
    },
    {
      "cell_type": "code",
      "source": [
        "No_Capuchino_file"
      ],
      "metadata": {
        "colab": {
          "base_uri": "https://localhost:8080/",
          "height": 35
        },
        "id": "MpPPk-sos0NW",
        "outputId": "6bde3d35-35a4-4a46-eac1-5030a7e892f7"
      },
      "execution_count": 39,
      "outputs": [
        {
          "output_type": "execute_result",
          "data": {
            "text/plain": [
              "'/content/DATA/No Capuchinos/afternoon-birds-song-in-forest-0.wav'"
            ],
            "application/vnd.google.colaboratory.intrinsic+json": {
              "type": "string"
            }
          },
          "metadata": {},
          "execution_count": 39
        }
      ]
    },
    {
      "cell_type": "code",
      "source": [
        "len(No_Capuchino_file)"
      ],
      "metadata": {
        "colab": {
          "base_uri": "https://localhost:8080/"
        },
        "id": "8LOt3u_614a_",
        "outputId": "8de1893e-dd3b-4ad5-fdc2-3dcddd5ce83e"
      },
      "execution_count": 11,
      "outputs": [
        {
          "output_type": "execute_result",
          "data": {
            "text/plain": [
              "65"
            ]
          },
          "metadata": {},
          "execution_count": 11
        }
      ]
    },
    {
      "cell_type": "code",
      "source": [
        "def load_wav_16k_mono(filename):\n",
        "  # Cargamos las carpetas wav \n",
        "  file_contents = tf.io.read_file(filename)\n",
        "  # Decodificamos a  y en Mono\n",
        "  wav , sample_rate = tf.audio.decode_wav(file_contents , desired_channels=1)\n",
        "  # Removemos Axis\n",
        "  wav = tf.squeeze(wav, axis=-1)\n",
        "  sample_rate = tf.cast(sample_rate , dtype=tf.int64)\n",
        "  # Va desde 44100Hz a 16000Hz - Amplitud de la señal de audio\n",
        "  wav = tfio.audio.resample(wav , rate_in=44100 , rate_out=16000)\n",
        "  return wav\n"
      ],
      "metadata": {
        "id": "PLOU6nPxs1CK"
      },
      "execution_count": 40,
      "outputs": []
    },
    {
      "cell_type": "code",
      "source": [
        "load_wav_16k_mono"
      ],
      "metadata": {
        "colab": {
          "base_uri": "https://localhost:8080/"
        },
        "id": "qboxP-Di2psS",
        "outputId": "45e4e062-674f-4c80-f48f-a4b86fbd4e67"
      },
      "execution_count": 33,
      "outputs": [
        {
          "output_type": "execute_result",
          "data": {
            "text/plain": [
              "<function __main__.load_wav_16k_mono>"
            ]
          },
          "metadata": {},
          "execution_count": 33
        }
      ]
    },
    {
      "cell_type": "code",
      "source": [
        "# En este caso solo nos trae los archivos convertidos en Strings\n",
        "file_contents = tf.io.read_file(Capuchino_file)"
      ],
      "metadata": {
        "id": "ItrU418XvKUL"
      },
      "execution_count": 18,
      "outputs": []
    },
    {
      "cell_type": "code",
      "source": [
        " # Aqui decodificamos a Wav neustros arcivhos y que sea de 1 canal = Mono\n",
        " wav , sample_rate = tf.audio.decode_wav(file_contents , desired_channels=1)"
      ],
      "metadata": {
        "id": "iWIfBGOgvOvz"
      },
      "execution_count": 19,
      "outputs": []
    },
    {
      "cell_type": "code",
      "source": [
        "# Nos trae la Amplitud \n",
        "#len(wav)\n",
        "wav"
      ],
      "metadata": {
        "colab": {
          "base_uri": "https://localhost:8080/",
          "height": 236
        },
        "id": "KkI-YGPqwLXr",
        "outputId": "bc1ba205-2fc3-43f2-8f59-73d7ec02105f"
      },
      "execution_count": 9,
      "outputs": [
        {
          "output_type": "error",
          "ename": "NameError",
          "evalue": "ignored",
          "traceback": [
            "\u001b[0;31m---------------------------------------------------------------------------\u001b[0m",
            "\u001b[0;31mNameError\u001b[0m                                 Traceback (most recent call last)",
            "\u001b[0;32m<ipython-input-9-308e158852f4>\u001b[0m in \u001b[0;36m<module>\u001b[0;34m()\u001b[0m\n\u001b[1;32m      1\u001b[0m \u001b[0;31m# Nos trae la Amplitud\u001b[0m\u001b[0;34m\u001b[0m\u001b[0;34m\u001b[0m\u001b[0;34m\u001b[0m\u001b[0m\n\u001b[1;32m      2\u001b[0m \u001b[0;31m#len(wav)\u001b[0m\u001b[0;34m\u001b[0m\u001b[0;34m\u001b[0m\u001b[0;34m\u001b[0m\u001b[0m\n\u001b[0;32m----> 3\u001b[0;31m \u001b[0mwav\u001b[0m\u001b[0;34m\u001b[0m\u001b[0;34m\u001b[0m\u001b[0m\n\u001b[0m",
            "\u001b[0;31mNameError\u001b[0m: name 'wav' is not defined"
          ]
        }
      ]
    },
    {
      "cell_type": "markdown",
      "source": [
        "2.3 Plot Wave"
      ],
      "metadata": {
        "id": "ZpSnVsH32ACA"
      }
    },
    {
      "cell_type": "code",
      "source": [
        "wave = load_wav_16k_mono(Capuchino_file)"
      ],
      "metadata": {
        "id": "SnoLTi3p1_Pr"
      },
      "execution_count": 41,
      "outputs": []
    },
    {
      "cell_type": "code",
      "source": [
        "nwave = load_wav_16k_mono(No_Capuchino_file)"
      ],
      "metadata": {
        "id": "ZL8T4ZZg5O4C"
      },
      "execution_count": 42,
      "outputs": []
    },
    {
      "cell_type": "code",
      "source": [
        "plt.plot(wave)\n",
        "plt.plot(nwave)\n",
        "plt.show()"
      ],
      "metadata": {
        "colab": {
          "base_uri": "https://localhost:8080/",
          "height": 265
        },
        "id": "1yC-4UbS5k2Q",
        "outputId": "f0c64d07-6162-45cb-dba4-69dfa7f8333e"
      },
      "execution_count": 43,
      "outputs": [
        {
          "output_type": "display_data",
          "data": {
            "text/plain": [
              "<Figure size 432x288 with 1 Axes>"
            ],
            "image/png": "[encoded data removed]"
          },
          "metadata": {
            "needs_background": "light"
          }
        }
      ]
    },
    {
      "cell_type": "code",
      "source": [
        "plt.plot(wave)\n"
      ],
      "metadata": {
        "colab": {
          "base_uri": "https://localhost:8080/",
          "height": 282
        },
        "id": "MBnOCfvb5k_b",
        "outputId": "b211d8b8-4f5c-4a68-c76e-8b2700a26fe6"
      },
      "execution_count": 44,
      "outputs": [
        {
          "output_type": "execute_result",
          "data": {
            "text/plain": [
              "[<matplotlib.lines.Line2D at 0x7f9bb6a29e10>]"
            ]
          },
          "metadata": {},
          "execution_count": 44
        },
        {
          "output_type": "display_data",
          "data": {
            "text/plain": [
              "<Figure size 432x288 with 1 Axes>"
            ],
            "image/png": "[encoded data removed]"
          },
          "metadata": {
            "needs_background": "light"
          }
        }
      ]
    },
    {
      "cell_type": "code",
      "source": [
        "plt.plot(nwave)"
      ],
      "metadata": {
        "colab": {
          "base_uri": "https://localhost:8080/",
          "height": 282
        },
        "id": "i5iu76rt5lGz",
        "outputId": "26736f5c-8f98-41fe-ef3f-0598c898eac9"
      },
      "execution_count": 45,
      "outputs": [
        {
          "output_type": "execute_result",
          "data": {
            "text/plain": [
              "[<matplotlib.lines.Line2D at 0x7f9bb6967fd0>]"
            ]
          },
          "metadata": {},
          "execution_count": 45
        },
        {
          "output_type": "display_data",
          "data": {
            "text/plain": [
              "<Figure size 432x288 with 1 Axes>"
            ],
            "image/png": "[encoded data removed]"
          },
          "metadata": {
            "needs_background": "light"
          }
        }
      ]
    },
    {
      "cell_type": "markdown",
      "source": [
        "# **3.Creacion Dataset con Tensorflow**"
      ],
      "metadata": {
        "id": "U8PyS6jg-Cgj"
      }
    },
    {
      "cell_type": "markdown",
      "source": [
        " 3.1 Definimos Paths para Data positiva y negativa"
      ],
      "metadata": {
        "id": "I222R7jb-gYG"
      }
    },
    {
      "cell_type": "code",
      "source": [
        "POS = os.path.join('DATA' , '/content/DATA/Capuchinos Clips')\n",
        "NEG = os.path.join('DATA' , '/content/DATA/No Capuchinos' )"
      ],
      "metadata": {
        "id": "Gp7sFHQC6skT"
      },
      "execution_count": 56,
      "outputs": []
    },
    {
      "cell_type": "code",
      "source": [
        "POS"
      ],
      "metadata": {
        "colab": {
          "base_uri": "https://localhost:8080/",
          "height": 35
        },
        "id": "0RWozoXN_F7-",
        "outputId": "ecf8d793-d221-4b0d-9c7d-6f46c94463df"
      },
      "execution_count": 57,
      "outputs": [
        {
          "output_type": "execute_result",
          "data": {
            "text/plain": [
              "'/content/DATA/Capuchinos Clips'"
            ],
            "application/vnd.google.colaboratory.intrinsic+json": {
              "type": "string"
            }
          },
          "metadata": {},
          "execution_count": 57
        }
      ]
    },
    {
      "cell_type": "markdown",
      "source": [
        "3.2 Creamos Tensorflow Datasets"
      ],
      "metadata": {
        "id": "HFusvQNF_RlA"
      }
    },
    {
      "cell_type": "code",
      "source": [
        "pos = tf.data.Dataset.list_files(POS+'/*.wav')\n",
        "neg = tf.data.Dataset.list_files(NEG+'/*.wav')"
      ],
      "metadata": {
        "id": "FJ2PKD6P_Pah"
      },
      "execution_count": 66,
      "outputs": []
    },
    {
      "cell_type": "code",
      "source": [
        ""
      ],
      "metadata": {
        "id": "70M0yPtNBgDz"
      },
      "execution_count": 65,
      "outputs": []
    }
  ]
}